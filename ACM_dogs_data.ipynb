{
  "nbformat": 4,
  "nbformat_minor": 0,
  "metadata": {
    "colab": {
      "provenance": [],
      "mount_file_id": "1tLDphqIWCePVNJ6h3jBhoepYvP7a1NUJ",
      "authorship_tag": "ABX9TyM7v1HIXVIZYDJI+8sczFZ9",
      "include_colab_link": true
    },
    "kernelspec": {
      "name": "python3",
      "display_name": "Python 3"
    },
    "language_info": {
      "name": "python"
    }
  },
  "cells": [
    {
      "cell_type": "markdown",
      "metadata": {
        "id": "view-in-github",
        "colab_type": "text"
      },
      "source": [
        "<a href=\"https://colab.research.google.com/github/salmaelgd/Data_Analysis/blob/main/ACM_dogs_data.ipynb\" target=\"_parent\"><img src=\"https://colab.research.google.com/assets/colab-badge.svg\" alt=\"Open In Colab\"/></a>"
      ]
    },
    {
      "cell_type": "code",
      "source": [
        "#chargement des données\n",
        "import pandas\n",
        "D = pandas.read_excel(\"/content/drive/MyDrive/ACM.xlsx\",sheet_name=\"Feuil1\")\n",
        "\n",
        "print(D)"
      ],
      "metadata": {
        "colab": {
          "base_uri": "https://localhost:8080/"
        },
        "id": "i8lmgWB0e5NV",
        "outputId": "554fe727-515b-4591-f285-9e278b254c6d"
      },
      "execution_count": null,
      "outputs": [
        {
          "output_type": "stream",
          "name": "stdout",
          "text": [
            "   iD        Chien    Taille Velocite Affection\n",
            "0   1    Beauceron  Taille++  Veloc++    Affec+\n",
            "1   2       Basset   Taille-   Veloc-    Affec-\n",
            "2   3   Berger All  Taille++  Veloc++    Affec+\n",
            "3   4        Boxer   Taille+   Veloc+    Affec+\n",
            "4   5     Bull-Dog   Taille-   Veloc-    Affec+\n",
            "5   6  Bull-Mastif  Taille++   Veloc-    Affec-\n",
            "6   7      Caniche   Taille-   Veloc+    Affec+\n",
            "7   8     Labrador   Taille+   Veloc+    Affec+\n"
          ]
        }
      ]
    },
    {
      "cell_type": "code",
      "source": [
        "#affichage des caractéristiques\n",
        "print(D.info())"
      ],
      "metadata": {
        "colab": {
          "base_uri": "https://localhost:8080/"
        },
        "id": "VQE2CPq5pej4",
        "outputId": "9e4bc9ca-0e71-45c4-8fda-e55ec40bf969"
      },
      "execution_count": null,
      "outputs": [
        {
          "output_type": "stream",
          "name": "stdout",
          "text": [
            "<class 'pandas.core.frame.DataFrame'>\n",
            "RangeIndex: 8 entries, 0 to 7\n",
            "Data columns (total 5 columns):\n",
            " #   Column     Non-Null Count  Dtype \n",
            "---  ------     --------------  ----- \n",
            " 0   iD         8 non-null      int64 \n",
            " 1   Chien      8 non-null      object\n",
            " 2   Taille     8 non-null      object\n",
            " 3   Velocite   8 non-null      object\n",
            " 4   Affection  8 non-null      object\n",
            "dtypes: int64(1), object(4)\n",
            "memory usage: 448.0+ bytes\n",
            "None\n"
          ]
        }
      ]
    },
    {
      "cell_type": "code",
      "source": [
        "#récupération des variables actives\n",
        "DActives = D[['Taille','Velocite','Affection']]\n",
        "print(DActives)"
      ],
      "metadata": {
        "colab": {
          "base_uri": "https://localhost:8080/"
        },
        "id": "i2c3HkZYpvhe",
        "outputId": "822a5baa-d140-4a2a-a326-d0c32d39b058"
      },
      "execution_count": null,
      "outputs": [
        {
          "output_type": "stream",
          "name": "stdout",
          "text": [
            "     Taille Velocite Affection\n",
            "0  Taille++  Veloc++    Affec+\n",
            "1   Taille-   Veloc-    Affec-\n",
            "2  Taille++  Veloc++    Affec+\n",
            "3   Taille+   Veloc+    Affec+\n",
            "4   Taille-   Veloc-    Affec+\n",
            "5  Taille++   Veloc-    Affec-\n",
            "6   Taille-   Veloc+    Affec+\n",
            "7   Taille+   Veloc+    Affec+\n"
          ]
        }
      ]
    },
    {
      "cell_type": "code",
      "source": [
        "# Récupération des infos - nombre de variables\n",
        "p = DActives.shape[1]\n",
        "print(p)\n",
        "\n",
        "# Nombre d'observations\n",
        "n = DActives.shape[0]\n",
        "print(n)\n",
        "\n",
        "# Codage en 0/1 – les noms de modalités sont explicites\n",
        "# Pas nécessaire de préfixer les indicatrices par les noms de variables\n",
        "X = pandas.get_dummies(DActives, prefix='', prefix_sep='', dtype=int)\n",
        "print(X)\n",
        "\n",
        "#nombre total de modalités\n",
        "M = X.shape[1]\n",
        "print(M)"
      ],
      "metadata": {
        "colab": {
          "base_uri": "https://localhost:8080/"
        },
        "id": "6oXoRgosp2vL",
        "outputId": "6d55477b-a6fc-46b5-99f6-615e7c671eda"
      },
      "execution_count": null,
      "outputs": [
        {
          "output_type": "stream",
          "name": "stdout",
          "text": [
            "3\n",
            "8\n",
            "   Taille+  Taille++  Taille-  Veloc+  Veloc++  Veloc-  Affec+  Affec-\n",
            "0        0         1        0       0        1       0       1       0\n",
            "1        0         0        1       0        0       1       0       1\n",
            "2        0         1        0       0        1       0       1       0\n",
            "3        1         0        0       1        0       0       1       0\n",
            "4        0         0        1       0        0       1       1       0\n",
            "5        0         1        0       0        0       1       0       1\n",
            "6        0         0        1       1        0       0       1       0\n",
            "7        1         0        0       1        0       0       1       0\n",
            "8\n"
          ]
        }
      ]
    },
    {
      "cell_type": "code",
      "source": [
        "!pip install fanalysis"
      ],
      "metadata": {
        "colab": {
          "base_uri": "https://localhost:8080/"
        },
        "id": "3y5VxlbjC4Qi",
        "outputId": "8edaa1de-3334-493d-af21-b5f6d7c49a89"
      },
      "execution_count": null,
      "outputs": [
        {
          "output_type": "stream",
          "name": "stdout",
          "text": [
            "Requirement already satisfied: fanalysis in /usr/local/lib/python3.10/dist-packages (0.0.1)\n",
            "Requirement already satisfied: numpy>=1.11.0 in /usr/local/lib/python3.10/dist-packages (from fanalysis) (1.26.4)\n",
            "Requirement already satisfied: matplotlib>=2.0.0 in /usr/local/lib/python3.10/dist-packages (from fanalysis) (3.7.1)\n",
            "Requirement already satisfied: scikit-learn>=0.18.0 in /usr/local/lib/python3.10/dist-packages (from fanalysis) (1.3.2)\n",
            "Requirement already satisfied: pandas>=0.19.0 in /usr/local/lib/python3.10/dist-packages (from fanalysis) (2.1.4)\n",
            "Requirement already satisfied: contourpy>=1.0.1 in /usr/local/lib/python3.10/dist-packages (from matplotlib>=2.0.0->fanalysis) (1.3.0)\n",
            "Requirement already satisfied: cycler>=0.10 in /usr/local/lib/python3.10/dist-packages (from matplotlib>=2.0.0->fanalysis) (0.12.1)\n",
            "Requirement already satisfied: fonttools>=4.22.0 in /usr/local/lib/python3.10/dist-packages (from matplotlib>=2.0.0->fanalysis) (4.53.1)\n",
            "Requirement already satisfied: kiwisolver>=1.0.1 in /usr/local/lib/python3.10/dist-packages (from matplotlib>=2.0.0->fanalysis) (1.4.7)\n",
            "Requirement already satisfied: packaging>=20.0 in /usr/local/lib/python3.10/dist-packages (from matplotlib>=2.0.0->fanalysis) (24.1)\n",
            "Requirement already satisfied: pillow>=6.2.0 in /usr/local/lib/python3.10/dist-packages (from matplotlib>=2.0.0->fanalysis) (9.4.0)\n",
            "Requirement already satisfied: pyparsing>=2.3.1 in /usr/local/lib/python3.10/dist-packages (from matplotlib>=2.0.0->fanalysis) (3.1.4)\n",
            "Requirement already satisfied: python-dateutil>=2.7 in /usr/local/lib/python3.10/dist-packages (from matplotlib>=2.0.0->fanalysis) (2.8.2)\n",
            "Requirement already satisfied: pytz>=2020.1 in /usr/local/lib/python3.10/dist-packages (from pandas>=0.19.0->fanalysis) (2024.1)\n",
            "Requirement already satisfied: tzdata>=2022.1 in /usr/local/lib/python3.10/dist-packages (from pandas>=0.19.0->fanalysis) (2024.1)\n",
            "Requirement already satisfied: scipy>=1.5.0 in /usr/local/lib/python3.10/dist-packages (from scikit-learn>=0.18.0->fanalysis) (1.13.1)\n",
            "Requirement already satisfied: joblib>=1.1.1 in /usr/local/lib/python3.10/dist-packages (from scikit-learn>=0.18.0->fanalysis) (1.4.2)\n",
            "Requirement already satisfied: threadpoolctl>=2.0.0 in /usr/local/lib/python3.10/dist-packages (from scikit-learn>=0.18.0->fanalysis) (3.5.0)\n",
            "Requirement already satisfied: six>=1.5 in /usr/local/lib/python3.10/dist-packages (from python-dateutil>=2.7->matplotlib>=2.0.0->fanalysis) (1.16.0)\n"
          ]
        }
      ]
    },
    {
      "cell_type": "code",
      "source": [
        "#analyse avec fanalysis\n",
        "from fanalysis.mca import MCA"
      ],
      "metadata": {
        "id": "aE3zFdaIR3Gc"
      },
      "execution_count": null,
      "outputs": []
    },
    {
      "cell_type": "markdown",
      "source": [
        " ce code initialise et ajuste un modèle d'analyse des correspondances multiples sur notre ensemble de données DActives, puis affiche les propriétés et méthodes de l'objet ACM résultant."
      ],
      "metadata": {
        "id": "ttUgQpIDvR26"
      }
    },
    {
      "cell_type": "code",
      "source": [
        "#instanciation\n",
        "acm = MCA(row_labels=DActives.index,var_labels=DActives.columns)\n",
        "acm.fit(DActives.values)\n",
        "\n",
        "#propriétés\n",
        "print(dir(acm))"
      ],
      "metadata": {
        "colab": {
          "base_uri": "https://localhost:8080/"
        },
        "id": "QC1dsr4tR926",
        "outputId": "b41528a0-7889-4716-fda4-caab2790afed"
      },
      "execution_count": null,
      "outputs": [
        {
          "output_type": "stream",
          "name": "stdout",
          "text": [
            "['__class__', '__delattr__', '__dict__', '__dir__', '__doc__', '__eq__', '__format__', '__ge__', '__getattribute__', '__getstate__', '__gt__', '__hash__', '__init__', '__init_subclass__', '__le__', '__lt__', '__module__', '__ne__', '__new__', '__reduce__', '__reduce_ex__', '__repr__', '__setattr__', '__setstate__', '__sizeof__', '__sklearn_clone__', '__str__', '__subclasshook__', '__weakref__', '_binarization', '_build_request_for_signature', '_check_feature_names', '_check_n_features', '_compute_stats', '_compute_svd', '_get_default_requests', '_get_metadata_request', '_get_param_names', '_get_tags', '_more_tags', '_repr_html_', '_repr_html_inner', '_repr_mimebundle_', '_sklearn_auto_wrap_output_keys', '_validate_data', '_validate_params', 'c_', 'col_contrib_', 'col_coord_', 'col_cos2_', 'col_labels', 'col_labels_', 'col_labels_short_', 'col_labels_short_temp_', 'col_labels_temp_', 'col_topandas', 'eig_', 'fit', 'fit_transform', 'get_metadata_routing', 'get_params', 'mapping', 'mapping_col', 'mapping_row', 'model_', 'n_', 'n_categories_', 'n_components', 'n_components_', 'n_vars_', 'plot_col_contrib', 'plot_col_cos2', 'plot_eigenvalues', 'plot_row_contrib', 'plot_row_cos2', 'prefixes_', 'r_', 'row_contrib_', 'row_coord_', 'row_cos2_', 'row_labels', 'row_labels_', 'row_topandas', 'set_output', 'set_params', 'stats', 'transform', 'var_labels']\n"
          ]
        }
      ]
    },
    {
      "cell_type": "markdown",
      "source": [
        "# Nombre de facteurs 1"
      ],
      "metadata": {
        "id": "SzkVX6QqvvMu"
      }
    },
    {
      "cell_type": "code",
      "source": [
        "#nombre max de facteurs\n",
        "Hmax = M-p\n",
        "\n",
        "#numpy\n",
        "import numpy\n",
        "\n",
        "#valeurs propres\n",
        "print(pandas.DataFrame(numpy.transpose(acm.eig_),columns=['Val.P','%','Cumul %'],index=range(1,Hmax+1)))"
      ],
      "metadata": {
        "colab": {
          "base_uri": "https://localhost:8080/"
        },
        "id": "sEx87utyvdeT",
        "outputId": "74b93d57-f90b-484d-f2f0-b8bccca6e646"
      },
      "execution_count": null,
      "outputs": [
        {
          "output_type": "stream",
          "name": "stdout",
          "text": [
            "      Val.P          %     Cumul %\n",
            "1  0.708031  42.481875   42.481875\n",
            "2  0.591489  35.489362   77.971237\n",
            "3  0.261992  15.719509   93.690746\n",
            "4  0.069747   4.184791   97.875538\n",
            "5  0.035408   2.124462  100.000000\n"
          ]
        }
      ]
    },
    {
      "cell_type": "markdown",
      "source": [
        "Eboulis des valeurs propres"
      ],
      "metadata": {
        "id": "I2fEXPdExCpF"
      }
    },
    {
      "cell_type": "code",
      "source": [
        "#librairie graphique\n",
        "import matplotlib.pyplot as plt\n",
        "#éboulis des v.p.\n",
        "fix,ax = plt.subplots(figsize=(5,5))\n",
        "ax.plot(range(1,Hmax+1),acm.eig_[0],\".-\")\n",
        "ax.set_xlabel(\"Nb. facteurs\")\n",
        "ax.set_ylabel(\"Val. propres\")\n",
        "plt.title(\"Eboulis des valeurs propres\")\n",
        "#seuil - Règle de Kaiser\n",
        "ax.plot([1,Hmax],[1/p,1/p],\"r--\",linewidth=1)\n",
        "plt.show()"
      ],
      "metadata": {
        "colab": {
          "base_uri": "https://localhost:8080/",
          "height": 487
        },
        "id": "HFSdnIruxDrs",
        "outputId": "bddc1b29-9edd-42b4-8b2c-bfe5ce90d5a3"
      },
      "execution_count": null,
      "outputs": [
        {
          "output_type": "display_data",
          "data": {
            "text/plain": [
              "<Figure size 500x500 with 1 Axes>"
            ],
            "image/png": "[encoded data removed]"
          },
          "metadata": {}
        }
      ]
    },
    {
      "cell_type": "markdown",
      "source": [
        "# Nombre de facteurs 2 – Correction de Benzécri\n",
        "Dans l'analyse des correspondances multiples, les données initiales peuvent contenir des informations redondantes. Cela signifie que certaines informations sont répétées ou corrélées, ce qui peut fausser l'interprétation des résultats\n",
        "de l'ACM.\n",
        "\n",
        "\n",
        "La correction de Benzécri est une méthode pour ajuster les résultats de l'ACM en tenant compte des redondances, ce qui permet une interprétation plus précise de l'inertie expliquée par chaque facteur."
      ],
      "metadata": {
        "id": "MG9Qpm5jx3Nl"
      }
    },
    {
      "cell_type": "code",
      "source": [
        "#récupérer les valeurs propres supérieur à (1/p)\n",
        "lambada = acm.eig_[0][acm.eig_[0]>1/p]\n",
        "print(lambada)"
      ],
      "metadata": {
        "colab": {
          "base_uri": "https://localhost:8080/"
        },
        "id": "yKF4OY8FxzGz",
        "outputId": "efbd50ed-0ebf-49de-b1f9-1458cc48e006"
      },
      "execution_count": null,
      "outputs": [
        {
          "output_type": "stream",
          "name": "stdout",
          "text": [
            "[0.70803126 0.59148936]\n"
          ]
        }
      ]
    },
    {
      "cell_type": "code",
      "source": [
        "#appliquer la correction\n",
        "lambada_prim = ((p/(p-1))*(lambada-1/p))**2\n",
        "print(lambada_prim)"
      ],
      "metadata": {
        "colab": {
          "base_uri": "https://localhost:8080/"
        },
        "id": "Y_welk9szsQ-",
        "outputId": "ad95ed27-283c-4118-8907-4665a349735f"
      },
      "execution_count": null,
      "outputs": [
        {
          "output_type": "stream",
          "name": "stdout",
          "text": [
            "[0.3158967  0.14995021]\n"
          ]
        }
      ]
    },
    {
      "cell_type": "code",
      "source": [
        "#faire la somme\n",
        "S_prim = numpy.sum(lambada_prim)\n",
        "print(S_prim)"
      ],
      "metadata": {
        "colab": {
          "base_uri": "https://localhost:8080/"
        },
        "id": "K1c7Q2OezzfU",
        "outputId": "7c44fa72-1d97-48d5-cffe-742a7fb414ae"
      },
      "execution_count": null,
      "outputs": [
        {
          "output_type": "stream",
          "name": "stdout",
          "text": [
            "0.46584690981683163\n"
          ]
        }
      ]
    },
    {
      "cell_type": "code",
      "source": [
        "#et produire les pourcentages\n",
        "percent_prim = lambada_prim/S_prim*100\n",
        "#affichage\n",
        "print(pandas.DataFrame(numpy.transpose(numpy.array([lambada_prim,percent_prim,numpy.cumsum(percent_prim)])),columns=['Val.P','%','Cumul %'],index=range(1,3)))"
      ],
      "metadata": {
        "colab": {
          "base_uri": "https://localhost:8080/"
        },
        "id": "8ap9jdnzz3sG",
        "outputId": "5388e39a-bdb3-4d0c-87dd-e43cff059f75"
      },
      "execution_count": null,
      "outputs": [
        {
          "output_type": "stream",
          "name": "stdout",
          "text": [
            "      Val.P          %     Cumul %\n",
            "1  0.315897  67.811269   67.811269\n",
            "2  0.149950  32.188731  100.000000\n"
          ]
        }
      ]
    },
    {
      "cell_type": "markdown",
      "source": [
        "# Pourcentage d’inertie restituée – Correction de Greenacre\n",
        "La correction de Greenacre, en affinant la correction de Benzécri, offre une méthode améliorée pour estimer l’inertie expliquée par les facteurs en ACM. Elle permet de retirer l’inertie triviale due aux croisements endogènes dans le tableau de Burt, donnant ainsi une représentation plus fidèle de la structure des données."
      ],
      "metadata": {
        "id": "yAyOIXlu1JI-"
      }
    },
    {
      "cell_type": "code",
      "source": [
        "#somme corrigée de Greenacre (S’’)\n",
        "S2nd = p/(p-1)*(numpy.sum(acm.eig_[0]**2)-(M-p)/(p**2))\n",
        "print(S2nd)"
      ],
      "metadata": {
        "colab": {
          "base_uri": "https://localhost:8080/"
        },
        "id": "26Bd0CI91P7x",
        "outputId": "e9636b57-855a-4fa0-f584-8ec4007d6fbf"
      },
      "execution_count": null,
      "outputs": [
        {
          "output_type": "stream",
          "name": "stdout",
          "text": [
            "0.5555555555555554\n"
          ]
        }
      ]
    },
    {
      "cell_type": "code",
      "source": [
        "#pourcentage corrigé Greenacre\n",
        "percent_2nd = lambada_prim/S2nd\n",
        "#affichage\n",
        "print(pandas.DataFrame(numpy.transpose(numpy.array([lambada_prim,percent_2nd,numpy\n",
        " .cumsum(percent_2nd)])),columns=['Val.P','%','Cumul %'],index=range(1,3)))"
      ],
      "metadata": {
        "colab": {
          "base_uri": "https://localhost:8080/"
        },
        "id": "9qQJ2rtt2kHx",
        "outputId": "c1bf2d53-fa71-4be3-9e21-0359b51a57fa"
      },
      "execution_count": null,
      "outputs": [
        {
          "output_type": "stream",
          "name": "stdout",
          "text": [
            "      Val.P         %   Cumul %\n",
            "1  0.315897  0.568614  0.568614\n",
            "2  0.149950  0.269910  0.838524\n"
          ]
        }
      ]
    },
    {
      "cell_type": "markdown",
      "source": [
        "Les valeurs propres restent inchangées, mais la correction de Greenacre ajuste la proportion d'inertie expliquée pour refléter uniquement l'information non-redondante. Les deux premiers facteurs expliquent 83.85% de l'information non-redondante."
      ],
      "metadata": {
        "id": "4jYkCBk83XWs"
      }
    },
    {
      "cell_type": "markdown",
      "source": [
        "# Analyse des modalités\n",
        "Coordonnées factorielles"
      ],
      "metadata": {
        "id": "j8yHhgWF3q8R"
      }
    },
    {
      "cell_type": "code",
      "source": [
        "#affichage des coordonnées\n",
        "print(pandas.DataFrame(acm.col_coord_[:,:2],index=X.columns,columns=['Coord.F1','Coord.F2']))"
      ],
      "metadata": {
        "colab": {
          "base_uri": "https://localhost:8080/"
        },
        "id": "knQXnBFk2p6A",
        "outputId": "262fabd7-359e-4ea1-c6db-79a4380c5369"
      },
      "execution_count": null,
      "outputs": [
        {
          "output_type": "stream",
          "name": "stdout",
          "text": [
            "              Coord.F1  Coord.F2\n",
            "Taille+   1.367621e+00 -0.500758\n",
            "Taille++ -4.558738e-01  1.121966\n",
            "Taille-  -4.558738e-01 -0.788128\n",
            "Veloc+    1.081461e+00 -0.554740\n",
            "Veloc++  -3.236138e-16  1.664220\n",
            "Veloc-   -1.081461e+00 -0.554740\n",
            "Affec+    4.558738e-01  0.166919\n",
            "Affec-   -1.367621e+00 -0.500758\n"
          ]
        }
      ]
    },
    {
      "cell_type": "code",
      "source": [
        "#représentation dans le plan\n",
        "fix,ax = plt.subplots(figsize=(7,7))\n",
        "ax.axis([-2,+2,-2,+2])\n",
        "ax.plot([-2,+2],[0,0],color='silver',linestyle='--')\n",
        "ax.plot([0,0],[-2,+2],color='silver',linestyle='--')\n",
        "ax.set_xlabel(\"Dim.1 (67.8%)\")\n",
        "ax.set_ylabel(\"Dim.2 (32.2%)\")\n",
        "plt.title(\"Représentation des points-modalités\")\n",
        "\n",
        "for i in range(X.shape[1]):\n",
        "    ax.text(acm.col_coord_[i,0],acm.col_coord_[i,1],X.columns[i],color='dodgerblue')\n",
        "\n",
        "plt.show()"
      ],
      "metadata": {
        "colab": {
          "base_uri": "https://localhost:8080/",
          "height": 642
        },
        "id": "dFWD7poF4Hrg",
        "outputId": "0da2ba88-ef1b-410d-f708-c527f2ed4d51"
      },
      "execution_count": null,
      "outputs": [
        {
          "output_type": "display_data",
          "data": {
            "text/plain": [
              "<Figure size 700x700 with 1 Axes>"
            ],
            "image/png": "[encoded data removed]"
          },
          "metadata": {}
        }
      ]
    },
    {
      "cell_type": "markdown",
      "source": [
        "# Contributions\n",
        "\n"
      ],
      "metadata": {
        "id": "v2SI6ytH5cKB"
      }
    },
    {
      "cell_type": "code",
      "source": [
        "#affichage des contributions\n",
        "print(pandas.DataFrame(acm.col_contrib_[:,:2],index=X.columns,columns=['Contrib.F1','Contrib.F2']))"
      ],
      "metadata": {
        "colab": {
          "base_uri": "https://localhost:8080/"
        },
        "id": "wsHL9_665brT",
        "outputId": "0e51cbf2-40d4-4094-8103-748a0e745a20"
      },
      "execution_count": null,
      "outputs": [
        {
          "output_type": "stream",
          "name": "stdout",
          "text": [
            "            Contrib.F1  Contrib.F2\n",
            "Taille+   2.201396e+01    3.532865\n",
            "Taille++  3.668993e+00   26.602515\n",
            "Taille-   3.668993e+00   13.126725\n",
            "Veloc+    2.064806e+01    6.503426\n",
            "Veloc++   1.232595e-30   39.020556\n",
            "Veloc-    2.064806e+01    6.503426\n",
            "Affec+    7.337985e+00    1.177622\n",
            "Affec-    2.201396e+01    3.532865\n"
          ]
        }
      ]
    },
    {
      "cell_type": "code",
      "source": [
        "#ou bien graphiquement\n",
        "acm.plot_col_contrib(num_axis=1)\n"
      ],
      "metadata": {
        "colab": {
          "base_uri": "https://localhost:8080/",
          "height": 472
        },
        "id": "KL5lOUDBklIP",
        "outputId": "e37af1a8-4f2f-4b83-a9c9-6a5986b3a43f"
      },
      "execution_count": null,
      "outputs": [
        {
          "output_type": "display_data",
          "data": {
            "text/plain": [
              "<Figure size 640x480 with 1 Axes>"
            ],
            "image/png": "[encoded data removed]"
          },
          "metadata": {}
        }
      ]
    },
    {
      "cell_type": "markdown",
      "source": [
        "## COS2"
      ],
      "metadata": {
        "id": "WKwKxrCr_Uh1"
      }
    },
    {
      "cell_type": "code",
      "source": [
        "#affichage des COS2\n",
        "print(pandas.DataFrame(acm.col_cos2_[:,:2],index=X.columns,columns=['Cos2.F1','Cos2.F2']))"
      ],
      "metadata": {
        "colab": {
          "base_uri": "https://localhost:8080/"
        },
        "id": "QsVHjpPE-Qvv",
        "outputId": "8e618b9c-28c1-4f26-e178-54aa9341f812"
      },
      "execution_count": null,
      "outputs": [
        {
          "output_type": "stream",
          "name": "stdout",
          "text": [
            "               Cos2.F1   Cos2.F2\n",
            "Taille+   6.234628e-01  0.083586\n",
            "Taille++  1.246926e-01  0.755285\n",
            "Taille-   1.246926e-01  0.372687\n",
            "Veloc+    7.017346e-01  0.184642\n",
            "Veloc++   3.490864e-32  0.923210\n",
            "Veloc-    7.017346e-01  0.184642\n",
            "Affec+    6.234628e-01  0.083586\n",
            "Affec-    6.234628e-01  0.083586\n"
          ]
        }
      ]
    },
    {
      "cell_type": "code",
      "source": [
        "#affichage des COS2 cumulés\n",
        "print(pandas.DataFrame(numpy.cumsum(acm.col_cos2_[:,:2],axis=1),index=X.columns,columns=['Cos2.F1','Cum(Cos2).F2']))"
      ],
      "metadata": {
        "colab": {
          "base_uri": "https://localhost:8080/"
        },
        "id": "varaTihR_b1L",
        "outputId": "b74e12e2-0d0c-47c3-9c29-42065d986e3c"
      },
      "execution_count": null,
      "outputs": [
        {
          "output_type": "stream",
          "name": "stdout",
          "text": [
            "               Cos2.F1  Cum(Cos2).F2\n",
            "Taille+   6.234628e-01      0.707049\n",
            "Taille++  1.246926e-01      0.879978\n",
            "Taille-   1.246926e-01      0.497380\n",
            "Veloc+    7.017346e-01      0.886377\n",
            "Veloc++   3.490864e-32      0.923210\n",
            "Veloc-    7.017346e-01      0.886377\n",
            "Affec+    6.234628e-01      0.707049\n",
            "Affec-    6.234628e-01      0.707049\n"
          ]
        }
      ]
    },
    {
      "cell_type": "markdown",
      "source": [
        "on a les COS2 cumulés sur le 2nd facteur, à part (« Taille- » avec Cumul(COS2) =\n",
        "0.49), les modalités sont assez bien représentées, signe que les deux premiers facteurs\n",
        "suffisent amplement pour capter l’information portée par les données."
      ],
      "metadata": {
        "id": "WmWlt8cJAIZD"
      }
    },
    {
      "cell_type": "markdown",
      "source": [
        "# Valeur test"
      ],
      "metadata": {
        "id": "gjKV44VjAXJy"
      }
    },
    {
      "cell_type": "code",
      "source": [
        "print(X)"
      ],
      "metadata": {
        "colab": {
          "base_uri": "https://localhost:8080/"
        },
        "id": "B6QnQ0W_AoRd",
        "outputId": "137f5d13-4916-4e4c-bb6a-a57bbd0f49ac"
      },
      "execution_count": null,
      "outputs": [
        {
          "output_type": "stream",
          "name": "stdout",
          "text": [
            "   Taille+  Taille++  Taille-  Veloc+  Veloc++  Veloc-  Affec+  Affec-\n",
            "0        0         1        0       0        1       0       1       0\n",
            "1        0         0        1       0        0       1       0       1\n",
            "2        0         1        0       0        1       0       1       0\n",
            "3        1         0        0       1        0       0       1       0\n",
            "4        0         0        1       0        0       1       1       0\n",
            "5        0         1        0       0        0       1       0       1\n",
            "6        0         0        1       1        0       0       1       0\n",
            "7        1         0        0       1        0       0       1       0\n"
          ]
        }
      ]
    },
    {
      "cell_type": "code",
      "source": [
        "#effectifs par modalité\n",
        "print(acm.c_)"
      ],
      "metadata": {
        "colab": {
          "base_uri": "https://localhost:8080/"
        },
        "id": "43-6IePT_wPi",
        "outputId": "5a841c79-c04b-4e0e-8259-c1623d1e1168"
      },
      "execution_count": null,
      "outputs": [
        {
          "output_type": "stream",
          "name": "stdout",
          "text": [
            "[[2. 3. 3. 3. 2. 3. 6. 2.]]\n"
          ]
        }
      ]
    },
    {
      "cell_type": "code",
      "source": [
        "#calul des valeurs test par modalité - 1er facteur\n",
        "vtest = acm.col_coord_[:,0]*numpy.sqrt(((n-1)*acm.c_[0])/(n-acm.c_[0]))\n",
        "print(pandas.DataFrame(vtest,index=X.columns))"
      ],
      "metadata": {
        "colab": {
          "base_uri": "https://localhost:8080/"
        },
        "id": "wWoIVpT2Awph",
        "outputId": "73472207-656b-4a40-f75f-d52607cad4a4"
      },
      "execution_count": null,
      "outputs": [
        {
          "output_type": "stream",
          "name": "stdout",
          "text": [
            "                     0\n",
            "Taille+   2.089076e+00\n",
            "Taille++ -9.342633e-01\n",
            "Taille-  -9.342633e-01\n",
            "Veloc+    2.216335e+00\n",
            "Veloc++  -4.943283e-16\n",
            "Veloc-   -2.216335e+00\n",
            "Affec+    2.089076e+00\n",
            "Affec-   -2.089076e+00\n"
          ]
        }
      ]
    },
    {
      "cell_type": "markdown",
      "source": [
        "# Rapport de corrélation"
      ],
      "metadata": {
        "id": "jpSWwUguDNvL"
      }
    },
    {
      "cell_type": "code",
      "source": [
        "#récupération des contribution sous une forme exploitable - 2 facteurs\n",
        "contrib12 = pandas.DataFrame(acm.col_contrib_[:,:2],index=X.columns)\n",
        "print(contrib12)"
      ],
      "metadata": {
        "colab": {
          "base_uri": "https://localhost:8080/"
        },
        "id": "FoYgxoaoA2Ut",
        "outputId": "12d28aac-1454-41ce-97d9-f632aa7bb547"
      },
      "execution_count": null,
      "outputs": [
        {
          "output_type": "stream",
          "name": "stdout",
          "text": [
            "                     0          1\n",
            "Taille+   2.201396e+01   3.532865\n",
            "Taille++  3.668993e+00  26.602515\n",
            "Taille-   3.668993e+00  13.126725\n",
            "Veloc+    2.064806e+01   6.503426\n",
            "Veloc++   1.232595e-30  39.020556\n",
            "Veloc-    2.064806e+01   6.503426\n",
            "Affec+    7.337985e+00   1.177622\n",
            "Affec-    2.201396e+01   3.532865\n"
          ]
        }
      ]
    },
    {
      "cell_type": "markdown",
      "source": [
        "# Analyse des individus\n",
        "\n",
        "Coordonnées factorielles"
      ],
      "metadata": {
        "id": "FpTDHKa8WrQ0"
      }
    },
    {
      "cell_type": "code",
      "source": [
        "#coordonnées des individus dans le plan\n",
        "print(pandas.DataFrame(acm.row_coord_[:,:2],index=X.index,columns=['Coord.F1','Coord.F2']))"
      ],
      "metadata": {
        "colab": {
          "base_uri": "https://localhost:8080/"
        },
        "id": "PgOFvgYJJijm",
        "outputId": "4e219a3a-8972-4886-a6ba-3c406212b99d"
      },
      "execution_count": null,
      "outputs": [
        {
          "output_type": "stream",
          "name": "stdout",
          "text": [
            "       Coord.F1  Coord.F2\n",
            "0  0.000000e+00  1.279924\n",
            "1 -1.150779e+00 -0.799057\n",
            "2 -3.963444e-16  1.279924\n",
            "3  1.150779e+00 -0.385124\n",
            "4 -4.284137e-01 -0.509675\n",
            "5 -1.150779e+00  0.028809\n",
            "6  4.284137e-01 -0.509675\n",
            "7  1.150779e+00 -0.385124\n"
          ]
        }
      ]
    },
    {
      "cell_type": "code",
      "source": [
        "#représentation des individus dans le plan\n",
        "fix,ax = plt.subplots(figsize=(7,7))\n",
        "ax.axis([-2,+2,-2,+2])\n",
        "ax.plot([-2,+2],[0,0],color='silver',linestyle='--')\n",
        "ax.plot([0,0],[-2,+2],color='silver',linestyle='--')\n",
        "ax.set_xlabel(\"Dim.1\")\n",
        "ax.set_ylabel(\"Dim.2\")\n",
        "plt.title(\"Représentation des individus\")\n",
        "\n",
        "for i in range(X.shape[0]):\n",
        "    ax.text(acm.row_coord_[i,0],acm.row_coord_[i,1],X.index[i],color='firebrick')\n",
        "\n",
        "plt.show()"
      ],
      "metadata": {
        "colab": {
          "base_uri": "https://localhost:8080/",
          "height": 642
        },
        "id": "JMPYQ1eiW6jD",
        "outputId": "2bc03b81-8456-424d-eaef-d6dd953d0a3c"
      },
      "execution_count": null,
      "outputs": [
        {
          "output_type": "display_data",
          "data": {
            "text/plain": [
              "<Figure size 700x700 with 1 Axes>"
            ],
            "image/png": "[encoded data removed]"
          },
          "metadata": {}
        }
      ]
    },
    {
      "cell_type": "markdown",
      "source": [
        "# la contribution"
      ],
      "metadata": {
        "id": "DRbqInhDYu09"
      }
    },
    {
      "cell_type": "code",
      "source": [
        "#afficher les contributions\n",
        "print(pandas.DataFrame(acm.row_contrib_[:,:2],index=X.index,columns=['Contrib.F1',\n",
        " 'Contrib.F2']))"
      ],
      "metadata": {
        "colab": {
          "base_uri": "https://localhost:8080/"
        },
        "id": "KLTgk5GQXpfh",
        "outputId": "9968fc48-e86e-4ebb-e2b8-31fe1062764e"
      },
      "execution_count": null,
      "outputs": [
        {
          "output_type": "stream",
          "name": "stdout",
          "text": [
            "     Contrib.F1  Contrib.F2\n",
            "0  0.000000e+00   34.620365\n",
            "1  2.337985e+01   13.493329\n",
            "2  2.773339e-30   34.620365\n",
            "3  2.337985e+01    3.134479\n",
            "4  3.240293e+00    5.489722\n",
            "5  2.337985e+01    0.017539\n",
            "6  3.240293e+00    5.489722\n",
            "7  2.337985e+01    3.134479\n"
          ]
        }
      ]
    },
    {
      "cell_type": "markdown",
      "source": [
        "# COS2"
      ],
      "metadata": {
        "id": "3vXOeuVVbIkZ"
      }
    },
    {
      "cell_type": "code",
      "source": [
        "#affichage des COS2\n",
        "print(pandas.DataFrame(acm.row_cos2_[:,:2],index=X.index,columns=['Cos2.F1','Cos2.F2']))"
      ],
      "metadata": {
        "colab": {
          "base_uri": "https://localhost:8080/"
        },
        "id": "KoXE3-_5ZKA8",
        "outputId": "d3b9997f-5601-4bdb-8b0a-9bb2011aca0b"
      },
      "execution_count": null,
      "outputs": [
        {
          "output_type": "stream",
          "name": "stdout",
          "text": [
            "        Cos2.F1   Cos2.F2\n",
            "0  0.000000e+00  0.982924\n",
            "1  6.272969e-01  0.302444\n",
            "2  9.425332e-32  0.982924\n",
            "3  7.945760e-01  0.088993\n",
            "4  1.501677e-01  0.212538\n",
            "5  6.272969e-01  0.000393\n",
            "6  1.501677e-01  0.212538\n",
            "7  7.945760e-01  0.088993\n"
          ]
        }
      ]
    },
    {
      "cell_type": "code",
      "source": [
        "#affichage des COS2 cumulés\n",
        "print(pandas.DataFrame(numpy.cumsum(acm.row_cos2_[:,:2],axis=1),index=X.index,columns=['Cos2.F1','Cum(Cos2).F2']))"
      ],
      "metadata": {
        "id": "WtgytvVSbhqT",
        "outputId": "860dc494-480b-4f07-9d87-9d6c42d9ddfd",
        "colab": {
          "base_uri": "https://localhost:8080/"
        }
      },
      "execution_count": null,
      "outputs": [
        {
          "output_type": "stream",
          "name": "stdout",
          "text": [
            "        Cos2.F1  Cum(Cos2).F2\n",
            "0  0.000000e+00      0.982924\n",
            "1  6.272969e-01      0.929741\n",
            "2  9.425332e-32      0.982924\n",
            "3  7.945760e-01      0.883569\n",
            "4  1.501677e-01      0.362706\n",
            "5  6.272969e-01      0.627690\n",
            "6  1.501677e-01      0.362706\n",
            "7  7.945760e-01      0.883569\n"
          ]
        }
      ]
    },
    {
      "cell_type": "markdown",
      "source": [],
      "metadata": {
        "id": "ZEnLteRXbMEZ"
      }
    }
  ]
}