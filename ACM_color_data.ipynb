{
  "nbformat": 4,
  "nbformat_minor": 0,
  "metadata": {
    "colab": {
      "provenance": [],
      "include_colab_link": true
    },
    "kernelspec": {
      "name": "python3",
      "display_name": "Python 3"
    },
    "language_info": {
      "name": "python"
    }
  },
  "cells": [
    {
      "cell_type": "markdown",
      "metadata": {
        "id": "view-in-github",
        "colab_type": "text"
      },
      "source": [
        "<a href=\"https://colab.research.google.com/github/salmaelgd/Data_Analysis/blob/main/ACM_color_data.ipynb\" target=\"_parent\"><img src=\"https://colab.research.google.com/assets/colab-badge.svg\" alt=\"Open In Colab\"/></a>"
      ]
    },
    {
      "cell_type": "code",
      "execution_count": null,
      "metadata": {
        "colab": {
          "base_uri": "https://localhost:8080/"
        },
        "id": "xtCr4tWWXd_0",
        "outputId": "21c9ea9c-4ddd-46c6-911f-f920e1656e52"
      },
      "outputs": [
        {
          "output_type": "stream",
          "name": "stdout",
          "text": [
            "    No.      Couleur  Système   Faculté\n",
            "0     1         Noir  Windows  Sciences\n",
            "1     2         Noir    Linux       DEG\n",
            "2     3      Argenté  Windows  Sciences\n",
            "3     4      Argenté      Mac       DEG\n",
            "4     5      Argenté    Linux  Sciences\n",
            "5     6      Argenté    Linux  Sciences\n",
            "6     7      Argenté    Linux  Sciences\n",
            "7     8    Bleu ciel      Mac       DEG\n",
            "8     9    Bleu ciel    Linux  Sciences\n",
            "9    10  Vert menthe      Mac  Sciences\n",
            "10   11  Vert menthe      Mac       DEG\n",
            "11   12  Vert menthe      Mac       DEG\n"
          ]
        }
      ],
      "source": [
        "#chargement des données\n",
        "import pandas\n",
        "D = pandas.read_excel(\"/content/drive/MyDrive/Colored_Systems_Faculty.xlsx\",sheet_name=\"Sheet1\")\n",
        "\n",
        "print(D)"
      ]
    },
    {
      "cell_type": "code",
      "source": [
        "#affichage des caractéristiques\n",
        "print(D.info())"
      ],
      "metadata": {
        "colab": {
          "base_uri": "https://localhost:8080/"
        },
        "id": "rZf0CT1mZKlO",
        "outputId": "a033467a-236f-4fff-c037-4e9317514ee7"
      },
      "execution_count": null,
      "outputs": [
        {
          "output_type": "stream",
          "name": "stdout",
          "text": [
            "<class 'pandas.core.frame.DataFrame'>\n",
            "RangeIndex: 12 entries, 0 to 11\n",
            "Data columns (total 4 columns):\n",
            " #   Column   Non-Null Count  Dtype \n",
            "---  ------   --------------  ----- \n",
            " 0   No.      12 non-null     int64 \n",
            " 1   Couleur  12 non-null     object\n",
            " 2   Système  12 non-null     object\n",
            " 3   Faculté  12 non-null     object\n",
            "dtypes: int64(1), object(3)\n",
            "memory usage: 512.0+ bytes\n",
            "None\n"
          ]
        }
      ]
    },
    {
      "cell_type": "code",
      "source": [
        "#récupération des variables actives\n",
        "DActives = D[['Couleur','Système','Faculté']]\n",
        "print(DActives)"
      ],
      "metadata": {
        "colab": {
          "base_uri": "https://localhost:8080/"
        },
        "id": "An90SKA0ZQyg",
        "outputId": "37f9708b-141b-4ef7-d9ec-9d0c96e7e449"
      },
      "execution_count": null,
      "outputs": [
        {
          "output_type": "stream",
          "name": "stdout",
          "text": [
            "        Couleur  Système   Faculté\n",
            "0          Noir  Windows  Sciences\n",
            "1          Noir    Linux       DEG\n",
            "2       Argenté  Windows  Sciences\n",
            "3       Argenté      Mac       DEG\n",
            "4       Argenté    Linux  Sciences\n",
            "5       Argenté    Linux  Sciences\n",
            "6       Argenté    Linux  Sciences\n",
            "7     Bleu ciel      Mac       DEG\n",
            "8     Bleu ciel    Linux  Sciences\n",
            "9   Vert menthe      Mac  Sciences\n",
            "10  Vert menthe      Mac       DEG\n",
            "11  Vert menthe      Mac       DEG\n"
          ]
        }
      ]
    },
    {
      "cell_type": "code",
      "source": [
        "# Récupération des infos - nombre de variables\n",
        "p = DActives.shape[1]\n",
        "print(p)\n",
        "\n",
        "# Nombre d'observations\n",
        "n = DActives.shape[0]\n",
        "print(n)\n",
        "\n",
        "# Codage en 0/1 – les noms de modalités sont explicites\n",
        "# Pas nécessaire de préfixer les indicatrices par les noms de variables\n",
        "X = pandas.get_dummies(DActives, prefix='', prefix_sep='', dtype=int)\n",
        "print(X)\n",
        "\n",
        "#nombre total de modalités\n",
        "M = X.shape[1]\n",
        "print(M)"
      ],
      "metadata": {
        "colab": {
          "base_uri": "https://localhost:8080/"
        },
        "id": "KWHFgB0cZjDD",
        "outputId": "d21d95ad-961a-4ea6-e5ed-044906bc82fa"
      },
      "execution_count": null,
      "outputs": [
        {
          "output_type": "stream",
          "name": "stdout",
          "text": [
            "3\n",
            "12\n",
            "    Argenté  Bleu ciel  Noir  Vert menthe  Linux  Mac  Windows  DEG  Sciences\n",
            "0         0          0     1            0      0    0        1    0         1\n",
            "1         0          0     1            0      1    0        0    1         0\n",
            "2         1          0     0            0      0    0        1    0         1\n",
            "3         1          0     0            0      0    1        0    1         0\n",
            "4         1          0     0            0      1    0        0    0         1\n",
            "5         1          0     0            0      1    0        0    0         1\n",
            "6         1          0     0            0      1    0        0    0         1\n",
            "7         0          1     0            0      0    1        0    1         0\n",
            "8         0          1     0            0      1    0        0    0         1\n",
            "9         0          0     0            1      0    1        0    0         1\n",
            "10        0          0     0            1      0    1        0    1         0\n",
            "11        0          0     0            1      0    1        0    1         0\n",
            "9\n"
          ]
        }
      ]
    },
    {
      "cell_type": "code",
      "source": [
        "!pip install fanalysis"
      ],
      "metadata": {
        "colab": {
          "base_uri": "https://localhost:8080/"
        },
        "id": "LjENHtNYZwru",
        "outputId": "cef3e9bf-46b1-42be-ac75-4902e192cbc2"
      },
      "execution_count": null,
      "outputs": [
        {
          "output_type": "stream",
          "name": "stdout",
          "text": [
            "Collecting fanalysis\n",
            "  Downloading fanalysis-0.0.1-py3-none-any.whl (56 kB)\n",
            "\u001b[2K     \u001b[90m━━━━━━━━━━━━━━━━━━━━━━━━━━━━━━━━━━━━━━━━\u001b[0m \u001b[32m56.3/56.3 kB\u001b[0m \u001b[31m1.7 MB/s\u001b[0m eta \u001b[36m0:00:00\u001b[0m\n",
            "\u001b[?25hRequirement already satisfied: numpy>=1.11.0 in /usr/local/lib/python3.10/dist-packages (from fanalysis) (1.25.2)\n",
            "Requirement already satisfied: matplotlib>=2.0.0 in /usr/local/lib/python3.10/dist-packages (from fanalysis) (3.7.1)\n",
            "Requirement already satisfied: scikit-learn>=0.18.0 in /usr/local/lib/python3.10/dist-packages (from fanalysis) (1.2.2)\n",
            "Requirement already satisfied: pandas>=0.19.0 in /usr/local/lib/python3.10/dist-packages (from fanalysis) (2.0.3)\n",
            "Requirement already satisfied: contourpy>=1.0.1 in /usr/local/lib/python3.10/dist-packages (from matplotlib>=2.0.0->fanalysis) (1.2.1)\n",
            "Requirement already satisfied: cycler>=0.10 in /usr/local/lib/python3.10/dist-packages (from matplotlib>=2.0.0->fanalysis) (0.12.1)\n",
            "Requirement already satisfied: fonttools>=4.22.0 in /usr/local/lib/python3.10/dist-packages (from matplotlib>=2.0.0->fanalysis) (4.52.4)\n",
            "Requirement already satisfied: kiwisolver>=1.0.1 in /usr/local/lib/python3.10/dist-packages (from matplotlib>=2.0.0->fanalysis) (1.4.5)\n",
            "Requirement already satisfied: packaging>=20.0 in /usr/local/lib/python3.10/dist-packages (from matplotlib>=2.0.0->fanalysis) (24.0)\n",
            "Requirement already satisfied: pillow>=6.2.0 in /usr/local/lib/python3.10/dist-packages (from matplotlib>=2.0.0->fanalysis) (9.4.0)\n",
            "Requirement already satisfied: pyparsing>=2.3.1 in /usr/local/lib/python3.10/dist-packages (from matplotlib>=2.0.0->fanalysis) (3.1.2)\n",
            "Requirement already satisfied: python-dateutil>=2.7 in /usr/local/lib/python3.10/dist-packages (from matplotlib>=2.0.0->fanalysis) (2.8.2)\n",
            "Requirement already satisfied: pytz>=2020.1 in /usr/local/lib/python3.10/dist-packages (from pandas>=0.19.0->fanalysis) (2023.4)\n",
            "Requirement already satisfied: tzdata>=2022.1 in /usr/local/lib/python3.10/dist-packages (from pandas>=0.19.0->fanalysis) (2024.1)\n",
            "Requirement already satisfied: scipy>=1.3.2 in /usr/local/lib/python3.10/dist-packages (from scikit-learn>=0.18.0->fanalysis) (1.11.4)\n",
            "Requirement already satisfied: joblib>=1.1.1 in /usr/local/lib/python3.10/dist-packages (from scikit-learn>=0.18.0->fanalysis) (1.4.2)\n",
            "Requirement already satisfied: threadpoolctl>=2.0.0 in /usr/local/lib/python3.10/dist-packages (from scikit-learn>=0.18.0->fanalysis) (3.5.0)\n",
            "Requirement already satisfied: six>=1.5 in /usr/local/lib/python3.10/dist-packages (from python-dateutil>=2.7->matplotlib>=2.0.0->fanalysis) (1.16.0)\n",
            "Installing collected packages: fanalysis\n",
            "Successfully installed fanalysis-0.0.1\n"
          ]
        }
      ]
    },
    {
      "cell_type": "code",
      "source": [
        "#analyse avec fanalysis\n",
        "from fanalysis.mca import MCA"
      ],
      "metadata": {
        "id": "B-MLw_KBZ6xg"
      },
      "execution_count": null,
      "outputs": []
    },
    {
      "cell_type": "code",
      "source": [
        "#instanciation\n",
        "acm = MCA(row_labels=DActives.index,var_labels=DActives.columns)\n",
        "acm.fit(DActives.values)\n",
        "\n",
        "#propriétés\n",
        "print(dir(acm))"
      ],
      "metadata": {
        "colab": {
          "base_uri": "https://localhost:8080/"
        },
        "id": "_PWsgtAuZ8kP",
        "outputId": "ae6a258d-79a8-435d-c98f-eacb0276d9ee"
      },
      "execution_count": null,
      "outputs": [
        {
          "output_type": "stream",
          "name": "stdout",
          "text": [
            "['__class__', '__delattr__', '__dict__', '__dir__', '__doc__', '__eq__', '__format__', '__ge__', '__getattribute__', '__getstate__', '__gt__', '__hash__', '__init__', '__init_subclass__', '__le__', '__lt__', '__module__', '__ne__', '__new__', '__reduce__', '__reduce_ex__', '__repr__', '__setattr__', '__setstate__', '__sizeof__', '__str__', '__subclasshook__', '__weakref__', '_binarization', '_check_feature_names', '_check_n_features', '_compute_stats', '_compute_svd', '_get_param_names', '_get_tags', '_more_tags', '_repr_html_', '_repr_html_inner', '_repr_mimebundle_', '_sklearn_auto_wrap_output_keys', '_validate_data', '_validate_params', 'c_', 'col_contrib_', 'col_coord_', 'col_cos2_', 'col_labels', 'col_labels_', 'col_labels_short_', 'col_labels_short_temp_', 'col_labels_temp_', 'col_topandas', 'eig_', 'fit', 'fit_transform', 'get_params', 'mapping', 'mapping_col', 'mapping_row', 'model_', 'n_', 'n_categories_', 'n_components', 'n_components_', 'n_vars_', 'plot_col_contrib', 'plot_col_cos2', 'plot_eigenvalues', 'plot_row_contrib', 'plot_row_cos2', 'prefixes_', 'r_', 'row_contrib_', 'row_coord_', 'row_cos2_', 'row_labels', 'row_labels_', 'row_topandas', 'set_output', 'set_params', 'stats', 'transform', 'var_labels']\n"
          ]
        }
      ]
    },
    {
      "cell_type": "code",
      "source": [
        "#nombre max de facteurs\n",
        "Hmax = M-p\n",
        "\n",
        "#numpy\n",
        "import numpy\n",
        "\n",
        "#valeurs propres\n",
        "print(pandas.DataFrame(numpy.transpose(acm.eig_),columns=['Val.P','%','Cumul %'],index=range(1,Hmax+1)))"
      ],
      "metadata": {
        "colab": {
          "base_uri": "https://localhost:8080/"
        },
        "id": "9L8nL6_oaCQi",
        "outputId": "546427bc-ab4e-4227-e866-79b0fb5a6995"
      },
      "execution_count": null,
      "outputs": [
        {
          "output_type": "stream",
          "name": "stdout",
          "text": [
            "      Val.P          %     Cumul %\n",
            "1  0.724277  36.213862   36.213862\n",
            "2  0.433335  21.666771   57.880633\n",
            "3  0.354985  17.749246   75.629879\n",
            "4  0.264144  13.207191   88.837070\n",
            "5  0.191155   9.557759   98.394828\n",
            "6  0.032103   1.605172  100.000000\n"
          ]
        }
      ]
    },
    {
      "cell_type": "code",
      "source": [
        "print(p)"
      ],
      "metadata": {
        "colab": {
          "base_uri": "https://localhost:8080/"
        },
        "id": "X45HsevTcPk9",
        "outputId": "c2f8a84a-b555-45cc-a571-75c17a979c95"
      },
      "execution_count": null,
      "outputs": [
        {
          "output_type": "stream",
          "name": "stdout",
          "text": [
            "3\n"
          ]
        }
      ]
    },
    {
      "cell_type": "code",
      "source": [
        "#librairie graphique\n",
        "import matplotlib.pyplot as plt\n",
        "#éboulis des v.p.\n",
        "fix,ax = plt.subplots(figsize=(5,5))\n",
        "ax.plot(range(1,Hmax+1),acm.eig_[0],\".-\")\n",
        "ax.set_xlabel(\"Nb. facteurs\")\n",
        "ax.set_ylabel(\"Val. propres\")\n",
        "plt.title(\"Eboulis des valeurs propres\")\n",
        "#seuil - Règle de Kaiser\n",
        "ax.plot([1,Hmax],[1/p,1/p],\"r--\",linewidth=1)\n",
        "plt.show()"
      ],
      "metadata": {
        "colab": {
          "base_uri": "https://localhost:8080/",
          "height": 487
        },
        "id": "fzZp-jUPaCNO",
        "outputId": "8ef68dc6-a4e1-40ac-ba82-d17f11b0ee52"
      },
      "execution_count": null,
      "outputs": [
        {
          "output_type": "display_data",
          "data": {
            "text/plain": [
              "<Figure size 500x500 with 1 Axes>"
            ],
            "image/png": "[encoded data removed]"
          },
          "metadata": {}
        }
      ]
    },
    {
      "cell_type": "markdown",
      "source": [
        "# Benzecri"
      ],
      "metadata": {
        "id": "ZgSZuXGvflc_"
      }
    },
    {
      "cell_type": "code",
      "source": [
        "#récupérer les valeurs propres supérieur à (1/p)\n",
        "lambada = acm.eig_[0][acm.eig_[0]>1/p]\n",
        "print(lambada)"
      ],
      "metadata": {
        "colab": {
          "base_uri": "https://localhost:8080/"
        },
        "id": "E3B8mNlDaPF2",
        "outputId": "9f6e6441-af62-48a4-d18e-7905baefefae"
      },
      "execution_count": null,
      "outputs": [
        {
          "output_type": "stream",
          "name": "stdout",
          "text": [
            "[0.72427724 0.43333543 0.35498491]\n"
          ]
        }
      ]
    },
    {
      "cell_type": "code",
      "source": [
        "#appliquer la correction\n",
        "lambada_prim = ((p/(p-1))*(lambada-1/p))**2\n",
        "print(lambada_prim)"
      ],
      "metadata": {
        "colab": {
          "base_uri": "https://localhost:8080/"
        },
        "id": "wbmsY3V6dJrS",
        "outputId": "c5205f4d-ae34-44fc-a7d7-9609873f2e1b"
      },
      "execution_count": null,
      "outputs": [
        {
          "output_type": "stream",
          "name": "stdout",
          "text": [
            "[0.34388356 0.02250094 0.00105478]\n"
          ]
        }
      ]
    },
    {
      "cell_type": "code",
      "source": [
        "#faire la somme\n",
        "S_prim = numpy.sum(lambada_prim)\n",
        "print(S_prim)"
      ],
      "metadata": {
        "colab": {
          "base_uri": "https://localhost:8080/"
        },
        "id": "WcZcfKVsc_h4",
        "outputId": "b031c59f-5f3a-4f68-9681-a6092da14552"
      },
      "execution_count": null,
      "outputs": [
        {
          "output_type": "stream",
          "name": "stdout",
          "text": [
            "0.3674392820258274\n"
          ]
        }
      ]
    },
    {
      "cell_type": "code",
      "source": [
        "#et produire les pourcentages\n",
        "percent_prim = lambada_prim/S_prim*100\n",
        "#affichage\n",
        "print(pandas.DataFrame(numpy.transpose(numpy.array([lambada_prim,percent_prim,numpy.cumsum(percent_prim)])),columns=['Val.P','%','Cumul %'],index=range(1,4)))"
      ],
      "metadata": {
        "colab": {
          "base_uri": "https://localhost:8080/"
        },
        "id": "0aCrUZB4eGoR",
        "outputId": "8a3ae15a-d97e-4f0f-a866-acab3ad5d4c0"
      },
      "execution_count": null,
      "outputs": [
        {
          "output_type": "stream",
          "name": "stdout",
          "text": [
            "      Val.P          %     Cumul %\n",
            "1  0.343884  93.589221   93.589221\n",
            "2  0.022501   6.123717   99.712938\n",
            "3  0.001055   0.287062  100.000000\n"
          ]
        }
      ]
    },
    {
      "cell_type": "markdown",
      "source": [
        "# Greenacre"
      ],
      "metadata": {
        "id": "LRbOGtQufek9"
      }
    },
    {
      "cell_type": "code",
      "source": [
        "#somme corrigée de Greenacre (S’’)\n",
        "S2nd = p/(p-1)*(numpy.sum(acm.eig_[0]**2)-(M-p)/(p**2))\n",
        "print(S2nd)"
      ],
      "metadata": {
        "colab": {
          "base_uri": "https://localhost:8080/"
        },
        "id": "oYrVBmU4erfd",
        "outputId": "12d9ed2c-b956-40e2-921f-6ed7bf87f1e5"
      },
      "execution_count": null,
      "outputs": [
        {
          "output_type": "stream",
          "name": "stdout",
          "text": [
            "0.4185714285714298\n"
          ]
        }
      ]
    },
    {
      "cell_type": "code",
      "source": [
        "#pourcentage corrigé Greenacre\n",
        "percent_2nd = lambada_prim/S2nd\n",
        "#affichage\n",
        "print(pandas.DataFrame(numpy.transpose(numpy.array([lambada_prim,percent_2nd,numpy\n",
        " .cumsum(percent_2nd)])),columns=['Val.P','%','Cumul %'],index=range(1,4)))"
      ],
      "metadata": {
        "colab": {
          "base_uri": "https://localhost:8080/"
        },
        "id": "oBzPzr3yfdj7",
        "outputId": "43a55239-418c-4856-bd35-9822714c7c72"
      },
      "execution_count": null,
      "outputs": [
        {
          "output_type": "stream",
          "name": "stdout",
          "text": [
            "      Val.P         %   Cumul %\n",
            "1  0.343884  0.821565  0.821565\n",
            "2  0.022501  0.053757  0.875321\n",
            "3  0.001055  0.002520  0.877841\n"
          ]
        }
      ]
    },
    {
      "cell_type": "markdown",
      "source": [
        "# Analyse des modalités"
      ],
      "metadata": {
        "id": "tZS-R_fwgZBw"
      }
    },
    {
      "cell_type": "code",
      "source": [
        "#affichage des coordonnées\n",
        "print(pandas.DataFrame(acm.col_coord_[:,:3],index=X.columns,columns=['Coord.F1','Coord.F2','Coord.F3']))"
      ],
      "metadata": {
        "colab": {
          "base_uri": "https://localhost:8080/"
        },
        "id": "iwsb_NtbgaSY",
        "outputId": "c8bc8841-bfa4-4ce0-cbb8-f01171662b13"
      },
      "execution_count": null,
      "outputs": [
        {
          "output_type": "stream",
          "name": "stdout",
          "text": [
            "             Coord.F1  Coord.F2  Coord.F3\n",
            "Argenté      0.632657  0.438661 -0.640862\n",
            "Bleu ciel   -0.299768  0.970095  1.563317\n",
            "Noir         0.645519 -1.613486  1.110726\n",
            "Vert menthe -1.284930 -0.302175 -0.714591\n",
            "Linux        0.672905  0.649516  0.299820\n",
            "Mac         -1.114168 -0.021031 -0.197358\n",
            "Windows      1.103158 -1.571212 -0.256154\n",
            "DEG         -0.916622 -0.162455  0.352198\n",
            "Sciences     0.654730  0.116039 -0.251570\n"
          ]
        }
      ]
    },
    {
      "cell_type": "code",
      "source": [
        "#représentation dans le plan\n",
        "fix,ax = plt.subplots(figsize=(7,7))\n",
        "ax.axis([-2,+2,-2,+2])\n",
        "ax.plot([-2,+2],[0,0],color='silver',linestyle='--')\n",
        "ax.plot([0,0],[-2,+2],color='silver',linestyle='--')\n",
        "ax.set_xlabel(\"Dim.1 (67.8%)\")\n",
        "ax.set_ylabel(\"Dim.2 (32.2%)\")\n",
        "plt.title(\"Représentation des points-modalités\")\n",
        "\n",
        "for i in range(X.shape[1]):\n",
        "    ax.text(acm.col_coord_[i,0],acm.col_coord_[i,1],X.columns[i],color='dodgerblue')\n",
        "\n",
        "plt.show()"
      ],
      "metadata": {
        "colab": {
          "base_uri": "https://localhost:8080/",
          "height": 642
        },
        "id": "dJyDiv_Mg0Ap",
        "outputId": "30370707-0b00-43f3-c833-b4e236f76c1f"
      },
      "execution_count": null,
      "outputs": [
        {
          "output_type": "display_data",
          "data": {
            "text/plain": [
              "<Figure size 700x700 with 1 Axes>"
            ],
            "image/png": "[encoded data removed]"
          },
          "metadata": {}
        }
      ]
    },
    {
      "cell_type": "code",
      "source": [
        "#représentation dans le plan\n",
        "fix,ax = plt.subplots(figsize=(7,7))\n",
        "ax.axis([-2,+2,-2,+2])\n",
        "ax.plot([-2,+2],[0,0],color='silver',linestyle='--')\n",
        "ax.plot([0,0],[-2,+2],color='silver',linestyle='--')\n",
        "ax.set_xlabel(\"Dim.1 (67.8%)\")\n",
        "ax.set_ylabel(\"Dim.3 (32.2%)\")\n",
        "plt.title(\"Représentation des points-modalités\")\n",
        "\n",
        "for i in range(X.shape[1]):\n",
        "    ax.text(acm.col_coord_[i,0],acm.col_coord_[i,2],X.columns[i],color='dodgerblue')\n",
        "\n",
        "plt.show()"
      ],
      "metadata": {
        "colab": {
          "base_uri": "https://localhost:8080/",
          "height": 642
        },
        "id": "FoYGkRZoiLmI",
        "outputId": "a243ef37-5e04-4cae-82f0-6d844db3f750"
      },
      "execution_count": null,
      "outputs": [
        {
          "output_type": "display_data",
          "data": {
            "text/plain": [
              "<Figure size 700x700 with 1 Axes>"
            ],
            "image/png": "[encoded data removed]"
          },
          "metadata": {}
        }
      ]
    },
    {
      "cell_type": "markdown",
      "source": [
        "# Contributions"
      ],
      "metadata": {
        "id": "Ae3lGdA1jBDy"
      }
    },
    {
      "cell_type": "code",
      "source": [
        "#affichage des contributions\n",
        "print(pandas.DataFrame(acm.col_contrib_[:,:3],index=X.columns,columns=['Contrib.F1','Contrib.F2','Coord.F3']))"
      ],
      "metadata": {
        "colab": {
          "base_uri": "https://localhost:8080/"
        },
        "id": "VGaZw6kHjCnL",
        "outputId": "68328884-52b6-4e56-ebc8-28e4d46a722a"
      },
      "execution_count": null,
      "outputs": [
        {
          "output_type": "stream",
          "name": "stdout",
          "text": [
            "             Contrib.F1  Contrib.F2   Coord.F3\n",
            "Argenté        7.675380    6.167392  16.068927\n",
            "Bleu ciel      0.689277   12.065121  38.248254\n",
            "Noir           3.196252   33.375945  19.307727\n",
            "Vert menthe   18.996459    1.755943  11.987382\n",
            "Linux          8.683009   13.521424   3.517047\n",
            "Mac           23.804780    0.014176   1.523940\n",
            "Windows        9.334649   31.649925   1.026881\n",
            "DEG           16.111780    0.845877   4.853241\n",
            "Sciences      11.508414    0.604198   3.466600\n"
          ]
        }
      ]
    },
    {
      "cell_type": "code",
      "source": [
        "#affichage des COS2\n",
        "print(pandas.DataFrame(acm.col_cos2_[:,:3],index=X.columns,columns=['Cos2.F1','Cos2.F2','Cos2.F3']))"
      ],
      "metadata": {
        "colab": {
          "base_uri": "https://localhost:8080/"
        },
        "id": "pz9mlxr-jOca",
        "outputId": "fcd7c50e-f0cf-4d04-a5cc-c3641c7080de"
      },
      "execution_count": null,
      "outputs": [
        {
          "output_type": "stream",
          "name": "stdout",
          "text": [
            "              Cos2.F1   Cos2.F2   Cos2.F3\n",
            "Argenté      0.285897  0.137445  0.293360\n",
            "Bleu ciel    0.017972  0.188217  0.488792\n",
            "Noir         0.083339  0.520667  0.246742\n",
            "Vert menthe  0.550348  0.030436  0.170214\n",
            "Linux        0.323429  0.301336  0.064209\n",
            "Mac          0.886693  0.000316  0.027822\n",
            "Windows      0.243391  0.493741  0.013123\n",
            "DEG          0.600140  0.018851  0.088603\n",
            "Sciences     0.600140  0.018851  0.088603\n"
          ]
        }
      ]
    },
    {
      "cell_type": "code",
      "source": [
        "#affichage des COS2 cumulés\n",
        "print(pandas.DataFrame(numpy.cumsum(acm.col_cos2_[:,:3],axis=1),index=X.columns,columns=['Cos2.F1','Cos2.F2','Cum(Cos2).F3']))"
      ],
      "metadata": {
        "colab": {
          "base_uri": "https://localhost:8080/"
        },
        "id": "lRWDcHY5jn0j",
        "outputId": "27b64ce2-49d1-4bf9-f212-e2676995d312"
      },
      "execution_count": null,
      "outputs": [
        {
          "output_type": "stream",
          "name": "stdout",
          "text": [
            "              Cos2.F1   Cos2.F2  Cum(Cos2).F3\n",
            "Argenté      0.285897  0.423342      0.716702\n",
            "Bleu ciel    0.017972  0.206189      0.694981\n",
            "Noir         0.083339  0.604006      0.850749\n",
            "Vert menthe  0.550348  0.580785      0.750998\n",
            "Linux        0.323429  0.624765      0.688974\n",
            "Mac          0.886693  0.887009      0.914831\n",
            "Windows      0.243391  0.737133      0.750256\n",
            "DEG          0.600140  0.618991      0.707594\n",
            "Sciences     0.600140  0.618991      0.707594\n"
          ]
        }
      ]
    },
    {
      "cell_type": "code",
      "source": [
        "#effectifs par modalité\n",
        "print(acm.c_)"
      ],
      "metadata": {
        "colab": {
          "base_uri": "https://localhost:8080/"
        },
        "id": "aBeFCyE2kLk3",
        "outputId": "e45e28a3-e488-4bb3-db67-f5d430c3b934"
      },
      "execution_count": null,
      "outputs": [
        {
          "output_type": "stream",
          "name": "stdout",
          "text": [
            "[[5. 2. 2. 3. 5. 5. 2. 5. 7.]]\n"
          ]
        }
      ]
    },
    {
      "cell_type": "code",
      "source": [
        "#calul des valeurs test par modalité - 1er facteur\n",
        "vtest = acm.col_coord_[:,0]*numpy.sqrt(((n-1)*acm.c_[0])/(n-acm.c_[0]))\n",
        "print(pandas.DataFrame(vtest,index=X.columns))"
      ],
      "metadata": {
        "colab": {
          "base_uri": "https://localhost:8080/"
        },
        "id": "kYYv_CsxkTfY",
        "outputId": "bf1b9abd-2ddf-4cea-835f-a9f2c50651ed"
      },
      "execution_count": null,
      "outputs": [
        {
          "output_type": "stream",
          "name": "stdout",
          "text": [
            "                    0\n",
            "Argenté      1.773376\n",
            "Bleu ciel   -0.444628\n",
            "Noir         0.957460\n",
            "Vert menthe -2.460453\n",
            "Linux        1.886193\n",
            "Mac         -3.123080\n",
            "Windows      1.636248\n",
            "DEG         -2.569347\n",
            "Sciences     2.569347\n"
          ]
        }
      ]
    },
    {
      "cell_type": "markdown",
      "source": [
        "# Rapport de corrélation"
      ],
      "metadata": {
        "id": "MnmgCiW5kio9"
      }
    },
    {
      "cell_type": "code",
      "source": [
        "#récupération des contribution sous une forme exploitable - 3 facteurs\n",
        "contrib12 = pandas.DataFrame(acm.col_contrib_[:,:3],index=X.columns)\n",
        "print(contrib12)"
      ],
      "metadata": {
        "colab": {
          "base_uri": "https://localhost:8080/"
        },
        "id": "CMS73-SdkcZ-",
        "outputId": "f9b8e57e-c1af-4a22-b57d-de28d2d0b36b"
      },
      "execution_count": null,
      "outputs": [
        {
          "output_type": "stream",
          "name": "stdout",
          "text": [
            "                     0          1          2\n",
            "Argenté       7.675380   6.167392  16.068927\n",
            "Bleu ciel     0.689277  12.065121  38.248254\n",
            "Noir          3.196252  33.375945  19.307727\n",
            "Vert menthe  18.996459   1.755943  11.987382\n",
            "Linux         8.683009  13.521424   3.517047\n",
            "Mac          23.804780   0.014176   1.523940\n",
            "Windows       9.334649  31.649925   1.026881\n",
            "DEG          16.111780   0.845877   4.853241\n",
            "Sciences     11.508414   0.604198   3.466600\n"
          ]
        }
      ]
    },
    {
      "cell_type": "markdown",
      "source": [
        "# Analyse des individus"
      ],
      "metadata": {
        "id": "2mKFFqqblBeO"
      }
    },
    {
      "cell_type": "code",
      "source": [
        "#coordonnées des individus dans le plan\n",
        "print(pandas.DataFrame(acm.row_coord_[:,:3],index=X.index,columns=['Coord.F1','Coord.F2','Coord.F3']))"
      ],
      "metadata": {
        "colab": {
          "base_uri": "https://localhost:8080/"
        },
        "id": "ZNqiGv1Yk-2r",
        "outputId": "a59e9f8f-6e67-423e-adde-85e3d7e97559"
      },
      "execution_count": null,
      "outputs": [
        {
          "output_type": "stream",
          "name": "stdout",
          "text": [
            "    Coord.F1  Coord.F2  Coord.F3\n",
            "0   0.941356 -1.553872  0.337359\n",
            "1   0.157376 -0.570386  0.986195\n",
            "2   0.936318 -0.514729 -0.642595\n",
            "3  -0.547614  0.129213 -0.271913\n",
            "4   0.767798  0.609777 -0.331547\n",
            "5   0.767798  0.609777 -0.331547\n",
            "6   0.767798  0.609777 -0.331547\n",
            "7  -0.912823  0.398314  0.961251\n",
            "8   0.402590  0.878878  0.901617\n",
            "9  -0.683226 -0.104903 -0.650950\n",
            "10 -1.298686 -0.245923 -0.313162\n",
            "11 -1.298686 -0.245923 -0.313162\n"
          ]
        }
      ]
    },
    {
      "cell_type": "code",
      "source": [
        "#représentation des individus dans le plan\n",
        "fix,ax = plt.subplots(figsize=(7,7))\n",
        "ax.axis([-2,+2,-2,+2])\n",
        "ax.plot([-2,+2],[0,0],color='silver',linestyle='--')\n",
        "ax.plot([0,0],[-2,+2],color='silver',linestyle='--')\n",
        "ax.set_xlabel(\"Dim.1\")\n",
        "ax.set_ylabel(\"Dim.2\")\n",
        "plt.title(\"Représentation des individus\")\n",
        "\n",
        "for i in range(X.shape[0]):\n",
        "    ax.text(acm.row_coord_[i,0],acm.row_coord_[i,1],X.index[i],color='firebrick')\n",
        "\n",
        "plt.show()"
      ],
      "metadata": {
        "colab": {
          "base_uri": "https://localhost:8080/",
          "height": 642
        },
        "id": "kQDrFndWlOOt",
        "outputId": "ee959c81-ce66-4b10-9440-6a6f81c1d61c"
      },
      "execution_count": null,
      "outputs": [
        {
          "output_type": "display_data",
          "data": {
            "text/plain": [
              "<Figure size 700x700 with 1 Axes>"
            ],
            "image/png": "[encoded data removed]"
          },
          "metadata": {}
        }
      ]
    },
    {
      "cell_type": "code",
      "source": [
        "#représentation des individus dans le plan\n",
        "fix,ax = plt.subplots(figsize=(7,7))\n",
        "ax.axis([-2,+2,-2,+2])\n",
        "ax.plot([-2,+2],[0,0],color='silver',linestyle='--')\n",
        "ax.plot([0,0],[-2,+2],color='silver',linestyle='--')\n",
        "ax.set_xlabel(\"Dim.1\")\n",
        "ax.set_ylabel(\"Dim.2\")\n",
        "plt.title(\"Représentation des individus\")\n",
        "\n",
        "for i in range(X.shape[0]):\n",
        "    ax.text(acm.row_coord_[i,0],acm.row_coord_[i,2],X.index[i],color='firebrick')\n",
        "\n",
        "plt.show()"
      ],
      "metadata": {
        "colab": {
          "base_uri": "https://localhost:8080/",
          "height": 642
        },
        "id": "Mrj8GLxMlSRE",
        "outputId": "37925397-ce53-4c06-e337-17dfce68869a"
      },
      "execution_count": null,
      "outputs": [
        {
          "output_type": "display_data",
          "data": {
            "text/plain": [
              "<Figure size 700x700 with 1 Axes>"
            ],
            "image/png": "[encoded data removed]"
          },
          "metadata": {}
        }
      ]
    },
    {
      "cell_type": "markdown",
      "source": [
        "# la contribution"
      ],
      "metadata": {
        "id": "C8gv21Zwlo58"
      }
    },
    {
      "cell_type": "code",
      "source": [
        "#afficher les contributions\n",
        "print(pandas.DataFrame(acm.row_contrib_[:,:3],index=X.index,columns=['Contrib.F1','Contrib.F2','Contrib.F3']))"
      ],
      "metadata": {
        "colab": {
          "base_uri": "https://localhost:8080/"
        },
        "id": "boJHlslOlZBA",
        "outputId": "b93f6b83-7b9b-46e3-b33b-e7bc84c4d48c"
      },
      "execution_count": null,
      "outputs": [
        {
          "output_type": "stream",
          "name": "stdout",
          "text": [
            "    Contrib.F1  Contrib.F2  Contrib.F3\n",
            "0    10.195800   46.432809    2.671733\n",
            "1     0.284964    6.256511   22.831515\n",
            "2    10.086967    5.095098    9.693570\n",
            "3     3.450354    0.321075    1.735676\n",
            "4     6.782791    7.150499    2.580466\n",
            "5     6.782791    7.150499    2.580466\n",
            "6     6.782791    7.150499    2.580466\n",
            "7     9.587087    3.051028   21.691125\n",
            "8     1.864835   14.854288   19.083276\n",
            "9     5.370845    0.211625    9.947270\n",
            "10   19.405388    1.163034    2.302219\n",
            "11   19.405388    1.163034    2.302219\n"
          ]
        }
      ]
    },
    {
      "cell_type": "markdown",
      "source": [
        "# COS2"
      ],
      "metadata": {
        "id": "a0YFnI3pl3Ce"
      }
    },
    {
      "cell_type": "code",
      "source": [
        "#affichage des COS2\n",
        "print(pandas.DataFrame(acm.row_cos2_[:,:3],index=X.index,columns=['Cos2.F1','Cos2.F2','Cos2.F3']))"
      ],
      "metadata": {
        "colab": {
          "base_uri": "https://localhost:8080/"
        },
        "id": "C-HYsOmzlmds",
        "outputId": "c8d67e51-17c4-49b8-b596-3aee14b75413"
      },
      "execution_count": null,
      "outputs": [
        {
          "output_type": "stream",
          "name": "stdout",
          "text": [
            "     Cos2.F1   Cos2.F2   Cos2.F3\n",
            "0   0.248122  0.676065  0.031867\n",
            "1   0.009526  0.125131  0.374070\n",
            "2   0.369689  0.111724  0.174126\n",
            "3   0.214201  0.011926  0.052812\n",
            "4   0.503244  0.317414  0.093837\n",
            "5   0.503244  0.317414  0.093837\n",
            "6   0.503244  0.317414  0.093837\n",
            "7   0.320479  0.061021  0.355386\n",
            "8   0.068347  0.325722  0.342795\n",
            "9   0.273820  0.006455  0.248560\n",
            "10  0.872372  0.031282  0.050726\n",
            "11  0.872372  0.031282  0.050726\n"
          ]
        }
      ]
    },
    {
      "cell_type": "code",
      "source": [
        "#affichage des COS2 cumulés\n",
        "print(pandas.DataFrame(numpy.cumsum(acm.row_cos2_[:,:3],axis=1),index=X.index,columns=['Cos2.F1','Cos2.F2','Cum(Cos2).F3']))"
      ],
      "metadata": {
        "colab": {
          "base_uri": "https://localhost:8080/"
        },
        "id": "tHa03grbl5f5",
        "outputId": "cc2a662b-6e59-48f8-f6c9-fd0c6ad764c2"
      },
      "execution_count": null,
      "outputs": [
        {
          "output_type": "stream",
          "name": "stdout",
          "text": [
            "     Cos2.F1   Cos2.F2  Cum(Cos2).F3\n",
            "0   0.248122  0.924187      0.956054\n",
            "1   0.009526  0.134657      0.508726\n",
            "2   0.369689  0.481413      0.655540\n",
            "3   0.214201  0.226127      0.278939\n",
            "4   0.503244  0.820658      0.914495\n",
            "5   0.503244  0.820658      0.914495\n",
            "6   0.503244  0.820658      0.914495\n",
            "7   0.320479  0.381500      0.736885\n",
            "8   0.068347  0.394069      0.736863\n",
            "9   0.273820  0.280275      0.528835\n",
            "10  0.872372  0.903654      0.954380\n",
            "11  0.872372  0.903654      0.954380\n"
          ]
        }
      ]
    }
  ]
}